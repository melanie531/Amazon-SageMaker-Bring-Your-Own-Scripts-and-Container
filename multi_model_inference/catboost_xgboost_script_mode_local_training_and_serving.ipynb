{
 "cells": [
  {
   "cell_type": "markdown",
   "id": "f67ef8a7",
   "metadata": {},
   "source": [
    "## CatBoost Scikit Learn Script Mode Local Training and Serving \n",
    "\n",
    "This is a sample Python program that trains a simple CatBoost model using SageMaker scikit-learn Docker image, and then performs inference. This implementation will work on your *local computer* or in the *AWS Cloud*.\n",
    "\n",
    "#### Prerequisites:\n",
    "1. Install required Python packages:\n",
    "   `pip install -r requirements.txt`\n",
    "2. Docker Desktop installed and running on your computer:\n",
    "   `docker ps`\n",
    "3. You should have AWS credentials configured on your local machine in order to be able to pull the docker image from ECR."
   ]
  },
  {
   "cell_type": "code",
   "execution_count": 1,
   "id": "bf32a626",
   "metadata": {},
   "outputs": [],
   "source": [
    "import os\n",
    "import sagemaker\n",
    "import pandas as pd\n",
    "from sagemaker.predictor import csv_serializer\n",
    "from sagemaker.xgboost import XGBoost\n",
    "from sklearn.datasets import load_boston\n",
    "from sklearn.model_selection import train_test_split"
   ]
  },
  {
   "cell_type": "code",
   "execution_count": 2,
   "id": "48ead4b9",
   "metadata": {},
   "outputs": [],
   "source": [
    "sess = sagemaker.Session()\n",
    "bucket = sess.default_bucket()\n",
    "role = sagemaker.get_execution_role()\n",
    "\n",
    "    \n",
    "prefix = \"xgboost_catboost\""
   ]
  },
  {
   "cell_type": "markdown",
   "id": "54ba2c72",
   "metadata": {},
   "source": [
    "## Downloading Data\n",
    "Download training and eval data"
   ]
  },
  {
   "cell_type": "code",
   "execution_count": 3,
   "id": "0e34ddb7",
   "metadata": {},
   "outputs": [],
   "source": [
    "local_train = './data/train/boston_train.csv'\n",
    "local_validation = './data/validation/boston_validation.csv'\n",
    "local_test = './data/test/boston_test.csv'"
   ]
  },
  {
   "cell_type": "code",
   "execution_count": 4,
   "id": "36e9a4c5",
   "metadata": {},
   "outputs": [
    {
     "name": "stdout",
     "output_type": "stream",
     "text": [
      "Training dataset exist. Skipping Download\n"
     ]
    }
   ],
   "source": [
    "if os.path.isfile('./data/train/boston_train.csv') and \\\n",
    "        os.path.isfile('./data/validation/boston_validation.csv') and \\\n",
    "        os.path.isfile('./data/test/boston_test.csv'):\n",
    "    print('Training dataset exist. Skipping Download')\n",
    "else:\n",
    "    print('Downloading training dataset')\n",
    "\n",
    "    os.makedirs(\"./data\", exist_ok=True)\n",
    "    os.makedirs(\"./data/train\", exist_ok=True)\n",
    "    os.makedirs(\"./data/validation\", exist_ok=True)\n",
    "    os.makedirs(\"./data/test\", exist_ok=True)\n",
    "\n",
    "    data = load_boston()\n",
    "\n",
    "    X_train, X_test, y_train, y_test = train_test_split(data.data, data.target, test_size=0.25, random_state=45)\n",
    "    X_val, X_test, y_val, y_test = train_test_split(X_test, y_test, test_size=0.5, random_state=45)\n",
    "\n",
    "    trainX = pd.DataFrame(X_train, columns=data.feature_names)\n",
    "    trainX['target'] = y_train\n",
    "\n",
    "    valX = pd.DataFrame(X_test, columns=data.feature_names)\n",
    "    valX['target'] = y_test\n",
    "\n",
    "    testX = pd.DataFrame(X_test, columns=data.feature_names)\n",
    "\n",
    "    trainX.to_csv(local_train, header=None, index=False)\n",
    "    valX.to_csv(local_validation, header=None, index=False)\n",
    "    testX.to_csv(local_test, header=None, index=False)\n",
    "\n",
    "    print('Downloading completed')"
   ]
  },
  {
   "cell_type": "markdown",
   "id": "0adf0ab3",
   "metadata": {},
   "source": [
    "## Model Training\n",
    "Starting model training using **local mode**. Note: if launching for the first time in local mode, container image download might take a few minutes to complete."
   ]
  },
  {
   "cell_type": "code",
   "execution_count": 44,
   "id": "c61cd385",
   "metadata": {},
   "outputs": [],
   "source": [
    "\n",
    "\n",
    "training_instance_type = \"ml.m5.xlarge\"\n",
    "train_location = sess.upload_data(\n",
    "    local_train, key_prefix=\"{}/data/{}\".format(prefix, \"train\")\n",
    ")\n",
    "validation_location = sess.upload_data(\n",
    "    local_validation, key_prefix=\"{}/data/{}\".format(prefix, \"validation\")\n",
    ")\n",
    "        "
   ]
  },
  {
   "cell_type": "code",
   "execution_count": 45,
   "id": "38ed4849",
   "metadata": {},
   "outputs": [
    {
     "name": "stdout",
     "output_type": "stream",
     "text": [
      "2022-04-13 04:31:49 Starting - Starting the training job...\n",
      "2022-04-13 04:32:06 Starting - Preparing the instances for trainingProfilerReport-1649824309: InProgress\n",
      "......\n",
      "2022-04-13 04:33:17 Downloading - Downloading input data...\n",
      "2022-04-13 04:33:42 Training - Downloading the training image.....\u001b[34mINFO:sagemaker-containers:Imported framework sagemaker_xgboost_container.training\u001b[0m\n",
      "\u001b[34mINFO:sagemaker-containers:No GPUs detected (normal if no gpus installed)\u001b[0m\n",
      "\u001b[34mINFO:sagemaker_xgboost_container.training:Invoking user training script.\u001b[0m\n",
      "\u001b[34mINFO:sagemaker-containers:Module multi_model_deploy does not provide a setup.py. \u001b[0m\n",
      "\u001b[34mGenerating setup.py\u001b[0m\n",
      "\u001b[34mINFO:sagemaker-containers:Generating setup.cfg\u001b[0m\n",
      "\u001b[34mINFO:sagemaker-containers:Generating MANIFEST.in\u001b[0m\n",
      "\u001b[34mINFO:sagemaker-containers:Installing module with the following command:\u001b[0m\n",
      "\u001b[34m/miniconda3/bin/python3 -m pip install . -r requirements.txt\u001b[0m\n",
      "\u001b[34mProcessing /opt/ml/code\u001b[0m\n",
      "\u001b[34mRequirement already satisfied: numpy in /miniconda3/lib/python3.6/site-packages (from -r requirements.txt (line 1)) (1.19.2)\u001b[0m\n",
      "\u001b[34mRequirement already satisfied: pandas in /miniconda3/lib/python3.6/site-packages (from -r requirements.txt (line 2)) (1.1.3)\u001b[0m\n",
      "\u001b[34mCollecting catboost==0.26\n",
      "  Downloading catboost-0.26-cp36-none-manylinux1_x86_64.whl (69.2 MB)\u001b[0m\n",
      "\u001b[34mRequirement already satisfied: python-dateutil>=2.7.3 in /miniconda3/lib/python3.6/site-packages (from pandas->-r requirements.txt (line 2)) (2.8.0)\u001b[0m\n",
      "\u001b[34mRequirement already satisfied: pytz>=2017.2 in /miniconda3/lib/python3.6/site-packages (from pandas->-r requirements.txt (line 2)) (2021.1)\u001b[0m\n",
      "\u001b[34mCollecting graphviz\n",
      "  Downloading graphviz-0.19.1-py3-none-any.whl (46 kB)\u001b[0m\n",
      "\u001b[34mRequirement already satisfied: scipy in /miniconda3/lib/python3.6/site-packages (from catboost==0.26->-r requirements.txt (line 3)) (1.2.2)\u001b[0m\n",
      "\u001b[34mRequirement already satisfied: matplotlib in /miniconda3/lib/python3.6/site-packages (from catboost==0.26->-r requirements.txt (line 3)) (3.3.2)\u001b[0m\n",
      "\u001b[34mCollecting plotly\n",
      "  Downloading plotly-5.7.0-py2.py3-none-any.whl (28.8 MB)\u001b[0m\n",
      "\u001b[34mRequirement already satisfied: six in /miniconda3/lib/python3.6/site-packages (from catboost==0.26->-r requirements.txt (line 3)) (1.15.0)\u001b[0m\n",
      "\u001b[34mRequirement already satisfied: pillow>=6.2.0 in /miniconda3/lib/python3.6/site-packages (from matplotlib->catboost==0.26->-r requirements.txt (line 3)) (8.1.2)\u001b[0m\n",
      "\u001b[34mRequirement already satisfied: certifi>=2020.06.20 in /miniconda3/lib/python3.6/site-packages (from matplotlib->catboost==0.26->-r requirements.txt (line 3)) (2020.12.5)\u001b[0m\n",
      "\u001b[34mRequirement already satisfied: pyparsing!=2.0.4,!=2.1.2,!=2.1.6,>=2.0.3 in /miniconda3/lib/python3.6/site-packages (from matplotlib->catboost==0.26->-r requirements.txt (line 3)) (2.4.7)\u001b[0m\n",
      "\u001b[34mRequirement already satisfied: cycler>=0.10 in /miniconda3/lib/python3.6/site-packages (from matplotlib->catboost==0.26->-r requirements.txt (line 3)) (0.10.0)\u001b[0m\n",
      "\u001b[34mRequirement already satisfied: kiwisolver>=1.0.1 in /miniconda3/lib/python3.6/site-packages (from matplotlib->catboost==0.26->-r requirements.txt (line 3)) (1.3.1)\u001b[0m\n",
      "\u001b[34mCollecting tenacity>=6.2.0\n",
      "  Downloading tenacity-8.0.1-py3-none-any.whl (24 kB)\u001b[0m\n",
      "\u001b[34mBuilding wheels for collected packages: multi-model-deploy\n",
      "  Building wheel for multi-model-deploy (setup.py): started\n",
      "  Building wheel for multi-model-deploy (setup.py): finished with status 'done'\n",
      "  Created wheel for multi-model-deploy: filename=multi_model_deploy-1.0.0-py2.py3-none-any.whl size=12833 sha256=efc44ee8826e395e9463cad676e48adedf4a96d6bdb0bf9045601e3955340bf8\n",
      "  Stored in directory: /home/model-server/tmp/pip-ephem-wheel-cache-t21xy88p/wheels/95/c1/85/65aaf48b35aba88c6e896d2fd04a4b69f1cee0d81ea32993ca\u001b[0m\n",
      "\u001b[34mSuccessfully built multi-model-deploy\u001b[0m\n",
      "\n",
      "2022-04-13 04:34:32 Training - Training image download completed. Training in progress.\u001b[34mInstalling collected packages: graphviz, tenacity, plotly, catboost, multi-model-deploy\u001b[0m\n",
      "\u001b[34mSuccessfully installed catboost-0.26 graphviz-0.19.1 multi-model-deploy-1.0.0 plotly-5.7.0 tenacity-8.0.1\u001b[0m\n",
      "\u001b[34mINFO:sagemaker-containers:No GPUs detected (normal if no gpus installed)\u001b[0m\n",
      "\u001b[34mINFO:sagemaker-containers:Invoking user script\u001b[0m\n",
      "\u001b[34mTraining Env:\u001b[0m\n",
      "\u001b[34m{\n",
      "    \"additional_framework_parameters\": {},\n",
      "    \"channel_input_dirs\": {\n",
      "        \"train\": \"/opt/ml/input/data/train\",\n",
      "        \"validation\": \"/opt/ml/input/data/validation\"\n",
      "    },\n",
      "    \"current_host\": \"algo-1\",\n",
      "    \"framework_module\": \"sagemaker_xgboost_container.training:main\",\n",
      "    \"hosts\": [\n",
      "        \"algo-1\"\n",
      "    ],\n",
      "    \"hyperparameters\": {\n",
      "        \"num_round\": 6\n",
      "    },\n",
      "    \"input_config_dir\": \"/opt/ml/input/config\",\n",
      "    \"input_data_config\": {\n",
      "        \"train\": {\n",
      "            \"TrainingInputMode\": \"File\",\n",
      "            \"S3DistributionType\": \"FullyReplicated\",\n",
      "            \"RecordWrapperType\": \"None\"\n",
      "        },\n",
      "        \"validation\": {\n",
      "            \"TrainingInputMode\": \"File\",\n",
      "            \"S3DistributionType\": \"FullyReplicated\",\n",
      "            \"RecordWrapperType\": \"None\"\n",
      "        }\n",
      "    },\n",
      "    \"input_dir\": \"/opt/ml/input\",\n",
      "    \"is_master\": true,\n",
      "    \"job_name\": \"xgboost-model-2022-04-13-04-31-49-243\",\n",
      "    \"log_level\": 20,\n",
      "    \"master_hostname\": \"algo-1\",\n",
      "    \"model_dir\": \"/opt/ml/model\",\n",
      "    \"module_dir\": \"s3://sagemaker-us-east-1-631450739534/xgboost-model-2022-04-13-04-31-49-243/source/sourcedir.tar.gz\",\n",
      "    \"module_name\": \"multi_model_deploy\",\n",
      "    \"network_interface_name\": \"eth0\",\n",
      "    \"num_cpus\": 4,\n",
      "    \"num_gpus\": 0,\n",
      "    \"output_data_dir\": \"/opt/ml/output/data\",\n",
      "    \"output_dir\": \"/opt/ml/output\",\n",
      "    \"output_intermediate_dir\": \"/opt/ml/output/intermediate\",\n",
      "    \"resource_config\": {\n",
      "        \"current_host\": \"algo-1\",\n",
      "        \"current_instance_type\": \"ml.m5.xlarge\",\n",
      "        \"current_group_name\": \"homogeneousCluster\",\n",
      "        \"hosts\": [\n",
      "            \"algo-1\"\n",
      "        ],\n",
      "        \"instance_groups\": [\n",
      "            {\n",
      "                \"instance_group_name\": \"homogeneousCluster\",\n",
      "                \"instance_type\": \"ml.m5.xlarge\",\n",
      "                \"hosts\": [\n",
      "                    \"algo-1\"\n",
      "                ]\n",
      "            }\n",
      "        ],\n",
      "        \"network_interface_name\": \"eth0\"\n",
      "    },\n",
      "    \"user_entry_point\": \"multi_model_deploy.py\"\u001b[0m\n",
      "\u001b[34m}\u001b[0m\n",
      "\u001b[34mEnvironment variables:\u001b[0m\n",
      "\u001b[34mSM_HOSTS=[\"algo-1\"]\u001b[0m\n",
      "\u001b[34mSM_NETWORK_INTERFACE_NAME=eth0\u001b[0m\n",
      "\u001b[34mSM_HPS={\"num_round\":6}\u001b[0m\n",
      "\u001b[34mSM_USER_ENTRY_POINT=multi_model_deploy.py\u001b[0m\n",
      "\u001b[34mSM_FRAMEWORK_PARAMS={}\u001b[0m\n",
      "\u001b[34mSM_RESOURCE_CONFIG={\"current_group_name\":\"homogeneousCluster\",\"current_host\":\"algo-1\",\"current_instance_type\":\"ml.m5.xlarge\",\"hosts\":[\"algo-1\"],\"instance_groups\":[{\"hosts\":[\"algo-1\"],\"instance_group_name\":\"homogeneousCluster\",\"instance_type\":\"ml.m5.xlarge\"}],\"network_interface_name\":\"eth0\"}\u001b[0m\n",
      "\u001b[34mSM_INPUT_DATA_CONFIG={\"train\":{\"RecordWrapperType\":\"None\",\"S3DistributionType\":\"FullyReplicated\",\"TrainingInputMode\":\"File\"},\"validation\":{\"RecordWrapperType\":\"None\",\"S3DistributionType\":\"FullyReplicated\",\"TrainingInputMode\":\"File\"}}\u001b[0m\n",
      "\u001b[34mSM_OUTPUT_DATA_DIR=/opt/ml/output/data\u001b[0m\n",
      "\u001b[34mSM_CHANNELS=[\"train\",\"validation\"]\u001b[0m\n",
      "\u001b[34mSM_CURRENT_HOST=algo-1\u001b[0m\n",
      "\u001b[34mSM_MODULE_NAME=multi_model_deploy\u001b[0m\n",
      "\u001b[34mSM_LOG_LEVEL=20\u001b[0m\n",
      "\u001b[34mSM_FRAMEWORK_MODULE=sagemaker_xgboost_container.training:main\u001b[0m\n",
      "\u001b[34mSM_INPUT_DIR=/opt/ml/input\u001b[0m\n",
      "\u001b[34mSM_INPUT_CONFIG_DIR=/opt/ml/input/config\u001b[0m\n",
      "\u001b[34mSM_OUTPUT_DIR=/opt/ml/output\u001b[0m\n",
      "\u001b[34mSM_NUM_CPUS=4\u001b[0m\n",
      "\u001b[34mSM_NUM_GPUS=0\u001b[0m\n",
      "\u001b[34mSM_MODEL_DIR=/opt/ml/model\u001b[0m\n",
      "\u001b[34mSM_MODULE_DIR=s3://sagemaker-us-east-1-631450739534/xgboost-model-2022-04-13-04-31-49-243/source/sourcedir.tar.gz\u001b[0m\n",
      "\u001b[34mSM_TRAINING_ENV={\"additional_framework_parameters\":{},\"channel_input_dirs\":{\"train\":\"/opt/ml/input/data/train\",\"validation\":\"/opt/ml/input/data/validation\"},\"current_host\":\"algo-1\",\"framework_module\":\"sagemaker_xgboost_container.training:main\",\"hosts\":[\"algo-1\"],\"hyperparameters\":{\"num_round\":6},\"input_config_dir\":\"/opt/ml/input/config\",\"input_data_config\":{\"train\":{\"RecordWrapperType\":\"None\",\"S3DistributionType\":\"FullyReplicated\",\"TrainingInputMode\":\"File\"},\"validation\":{\"RecordWrapperType\":\"None\",\"S3DistributionType\":\"FullyReplicated\",\"TrainingInputMode\":\"File\"}},\"input_dir\":\"/opt/ml/input\",\"is_master\":true,\"job_name\":\"xgboost-model-2022-04-13-04-31-49-243\",\"log_level\":20,\"master_hostname\":\"algo-1\",\"model_dir\":\"/opt/ml/model\",\"module_dir\":\"s3://sagemaker-us-east-1-631450739534/xgboost-model-2022-04-13-04-31-49-243/source/sourcedir.tar.gz\",\"module_name\":\"multi_model_deploy\",\"network_interface_name\":\"eth0\",\"num_cpus\":4,\"num_gpus\":0,\"output_data_dir\":\"/opt/ml/output/data\",\"output_dir\":\"/opt/ml/output\",\"output_intermediate_dir\":\"/opt/ml/output/intermediate\",\"resource_config\":{\"current_group_name\":\"homogeneousCluster\",\"current_host\":\"algo-1\",\"current_instance_type\":\"ml.m5.xlarge\",\"hosts\":[\"algo-1\"],\"instance_groups\":[{\"hosts\":[\"algo-1\"],\"instance_group_name\":\"homogeneousCluster\",\"instance_type\":\"ml.m5.xlarge\"}],\"network_interface_name\":\"eth0\"},\"user_entry_point\":\"multi_model_deploy.py\"}\u001b[0m\n",
      "\u001b[34mSM_USER_ARGS=[\"--num_round\",\"6\"]\u001b[0m\n",
      "\u001b[34mSM_OUTPUT_INTERMEDIATE_DIR=/opt/ml/output/intermediate\u001b[0m\n",
      "\u001b[34mSM_CHANNEL_TRAIN=/opt/ml/input/data/train\u001b[0m\n",
      "\u001b[34mSM_CHANNEL_VALIDATION=/opt/ml/input/data/validation\u001b[0m\n",
      "\u001b[34mSM_HP_NUM_ROUND=6\u001b[0m\n",
      "\u001b[34mPYTHONPATH=/miniconda3/bin:/:/miniconda3/lib/python3.6/site-packages/xgboost/dmlc-core/tracker:/miniconda3/lib/python36.zip:/miniconda3/lib/python3.6:/miniconda3/lib/python3.6/lib-dynload:/miniconda3/lib/python3.6/site-packages\u001b[0m\n",
      "\u001b[34mInvoking script with the following command:\u001b[0m\n",
      "\u001b[34m/miniconda3/bin/python3 -m multi_model_deploy --num_round 6\u001b[0m\n",
      "\u001b[34mTraining Started\u001b[0m\n",
      "\u001b[34mGot Args: Namespace(eta=0.2, k_fold=5, max_depth=5, model_dir='/opt/ml/model', num_round=6, objective='reg:squarederror', output_data_dir='/opt/ml/output/data', train='/opt/ml/input/data/train', validation='/opt/ml/input/data/validation')\u001b[0m\n",
      "\u001b[34mbuilding training and validation datasets\u001b[0m\n",
      "\u001b[34mvalidating model\u001b[0m\n",
      "\u001b[34mAE-at-10th-percentile: 1.4011320676377217\u001b[0m\n",
      "\u001b[34mAE-at-50th-percentile: 8.419696774059723\u001b[0m\n",
      "\u001b[34mAE-at-90th-percentile: 24.144645666362067\u001b[0m\n",
      "\u001b[34msaving model file to /opt/ml/model/catboost-regressor-model.dump\u001b[0m\n",
      "\u001b[34m[04:34:53] WARNING: /workspace/src/learner.cc:328: \u001b[0m\n",
      "\u001b[34mParameters: { num_round } might not be used.\n",
      "  This may not be accurate due to some parameters are only used in language bindings but\n",
      "  passed down to XGBoost core.  Or some parameters are not used but slip through this\n",
      "  verification. Please open an issue if you find above cases.\u001b[0m\n",
      "\u001b[34m[0]#011train-rmse:8.36354#011validation-rmse:9.40079\u001b[0m\n",
      "\u001b[34m[1]#011train-rmse:7.28372#011validation-rmse:8.73138\u001b[0m\n",
      "\u001b[34m[2]#011train-rmse:6.33950#011validation-rmse:8.29146\u001b[0m\n",
      "\u001b[34m[3]#011train-rmse:5.54365#011validation-rmse:7.92589\u001b[0m\n",
      "\u001b[34m[4]#011train-rmse:4.86788#011validation-rmse:7.57292\u001b[0m\n",
      "\u001b[34m[5]#011train-rmse:4.29628#011validation-rmse:7.33622\u001b[0m\n",
      "\u001b[34m[6]#011train-rmse:3.74842#011validation-rmse:7.05569\u001b[0m\n",
      "\u001b[34m[7]#011train-rmse:3.32649#011validation-rmse:6.87840\u001b[0m\n",
      "\u001b[34m[8]#011train-rmse:2.91415#011validation-rmse:6.65486\u001b[0m\n",
      "\u001b[34m[9]#011train-rmse:2.56252#011validation-rmse:6.51217\u001b[0m\n",
      "\u001b[34m[04:34:53] WARNING: /workspace/src/learner.cc:328: \u001b[0m\n",
      "\u001b[34mParameters: { num_round } might not be used.\n",
      "  This may not be accurate due to some parameters are only used in language bindings but\n",
      "  passed down to XGBoost core.  Or some parameters are not used but slip through this\n",
      "  verification. Please open an issue if you find above cases.\u001b[0m\n",
      "\u001b[34m[0]#011train-rmse:9.14602#011validation-rmse:4.59011\u001b[0m\n",
      "\u001b[34m[1]#011train-rmse:7.91704#011validation-rmse:3.78662\u001b[0m\n",
      "\u001b[34m[2]#011train-rmse:6.88478#011validation-rmse:3.39032\u001b[0m\n",
      "\u001b[34m[3]#011train-rmse:6.03009#011validation-rmse:3.22580\u001b[0m\n",
      "\u001b[34m[4]#011train-rmse:5.32566#011validation-rmse:3.08677\u001b[0m\n",
      "\u001b[34m[5]#011train-rmse:4.66279#011validation-rmse:3.16683\u001b[0m\n",
      "\u001b[34m[6]#011train-rmse:4.10565#011validation-rmse:3.33046\u001b[0m\n",
      "\u001b[34m[7]#011train-rmse:3.60598#011validation-rmse:3.34875\u001b[0m\n",
      "\u001b[34m[8]#011train-rmse:3.20815#011validation-rmse:3.33167\u001b[0m\n",
      "\u001b[34m[9]#011train-rmse:2.83654#011validation-rmse:3.36251\u001b[0m\n",
      "\u001b[34m[04:34:53] WARNING: /workspace/src/learner.cc:328: \u001b[0m\n",
      "\u001b[34mParameters: { num_round } might not be used.\n",
      "  This may not be accurate due to some parameters are only used in language bindings but\n",
      "  passed down to XGBoost core.  Or some parameters are not used but slip through this\n",
      "  verification. Please open an issue if you find above cases.\u001b[0m\n",
      "\u001b[34m[0]#011train-rmse:8.94361#011validation-rmse:6.04994\u001b[0m\n",
      "\u001b[34m[1]#011train-rmse:7.74183#011validation-rmse:5.22162\u001b[0m\n",
      "\u001b[34m[2]#011train-rmse:6.73456#011validation-rmse:5.05329\u001b[0m\n",
      "\u001b[34m[3]#011train-rmse:5.88938#011validation-rmse:5.05599\u001b[0m\n",
      "\u001b[34m[4]#011train-rmse:5.13699#011validation-rmse:5.11994\u001b[0m\n",
      "\u001b[34m[5]#011train-rmse:4.52059#011validation-rmse:5.27788\u001b[0m\n",
      "\u001b[34m[6]#011train-rmse:3.96226#011validation-rmse:5.57999\u001b[0m\n",
      "\u001b[34m[7]#011train-rmse:3.48232#011validation-rmse:5.92545\u001b[0m\n",
      "\u001b[34m[8]#011train-rmse:3.07698#011validation-rmse:6.24030\u001b[0m\n",
      "\u001b[34m[9]#011train-rmse:2.73975#011validation-rmse:6.51038\u001b[0m\n",
      "\u001b[34m[04:34:54] WARNING: /workspace/src/learner.cc:328: \u001b[0m\n",
      "\u001b[34mParameters: { num_round } might not be used.\n",
      "  This may not be accurate due to some parameters are only used in language bindings but\n",
      "  passed down to XGBoost core.  Or some parameters are not used but slip through this\n",
      "  verification. Please open an issue if you find above cases.\u001b[0m\n",
      "\u001b[34m[0]#011train-rmse:8.41610#011validation-rmse:8.99343\u001b[0m\n",
      "\u001b[34m[1]#011train-rmse:7.26022#011validation-rmse:8.29052\u001b[0m\n",
      "\u001b[34m[2]#011train-rmse:6.28431#011validation-rmse:7.73279\u001b[0m\n",
      "\u001b[34m[3]#011train-rmse:5.47884#011validation-rmse:7.41388\u001b[0m\n",
      "\u001b[34m[4]#011train-rmse:4.79308#011validation-rmse:7.05709\u001b[0m\n",
      "\u001b[34m[5]#011train-rmse:4.21854#011validation-rmse:6.76274\u001b[0m\n",
      "\u001b[34m[6]#011train-rmse:3.74998#011validation-rmse:6.61986\u001b[0m\n",
      "\u001b[34m[7]#011train-rmse:3.34437#011validation-rmse:6.58601\u001b[0m\n",
      "\u001b[34m[8]#011train-rmse:2.99927#011validation-rmse:6.56516\u001b[0m\n",
      "\u001b[34m[9]#011train-rmse:2.68145#011validation-rmse:6.48586\u001b[0m\n",
      "\u001b[34m[04:34:54] WARNING: /workspace/src/learner.cc:328: \u001b[0m\n",
      "\u001b[34mParameters: { num_round } might not be used.\n",
      "  This may not be accurate due to some parameters are only used in language bindings but\n",
      "  passed down to XGBoost core.  Or some parameters are not used but slip through this\n",
      "  verification. Please open an issue if you find above cases.\u001b[0m\n",
      "\u001b[34m[0]#011train-rmse:7.12834#011validation-rmse:13.20825\u001b[0m\n",
      "\u001b[34m[1]#011train-rmse:6.16976#011validation-rmse:12.35223\u001b[0m\n",
      "\u001b[34m[2]#011train-rmse:5.37577#011validation-rmse:11.81181\u001b[0m\n",
      "\u001b[34m[3]#011train-rmse:4.68788#011validation-rmse:11.40979\u001b[0m\n",
      "\u001b[34m[4]#011train-rmse:4.13210#011validation-rmse:11.11846\u001b[0m\n",
      "\u001b[34m[5]#011train-rmse:3.66412#011validation-rmse:10.95533\u001b[0m\n",
      "\u001b[34m[6]#011train-rmse:3.26513#011validation-rmse:10.84441\u001b[0m\n",
      "\u001b[34m[7]#011train-rmse:2.92208#011validation-rmse:10.74533\u001b[0m\n",
      "\u001b[34m[8]#011train-rmse:2.56453#011validation-rmse:10.64199\u001b[0m\n",
      "\u001b[34m[9]#011train-rmse:2.27456#011validation-rmse:10.56220\u001b[0m\n",
      "\u001b[34mRMSE average across folds: 6.6866246\u001b[0m\n",
      "\u001b[34mTraining Completed\u001b[0m\n",
      "\n",
      "2022-04-13 04:35:12 Uploading - Uploading generated training model\n",
      "2022-04-13 04:35:12 Completed - Training job completed\n",
      "Training seconds: 115\n",
      "Billable seconds: 115\n",
      "Completed model training\n"
     ]
    }
   ],
   "source": [
    "hyperparameters = {\"num_round\": 6}\n",
    "\n",
    "estimator_parameters = {\n",
    "    \"entry_point\": \"multi_model_deploy.py\",\n",
    "    \"source_dir\": \"code\",\n",
    "    \"dependencies\": [\"my_custom_library\"],\n",
    "    \"instance_type\": training_instance_type,\n",
    "    \"instance_count\": 1,\n",
    "    \"hyperparameters\": hyperparameters,\n",
    "    \"role\": role,\n",
    "    \"base_job_name\": \"xgboost-model\",\n",
    "    \"framework_version\": \"1.0-1\",\n",
    "    \"py_version\": \"py3\",\n",
    "}    \n",
    "    \n",
    "\n",
    "estimator = XGBoost(**estimator_parameters)\n",
    "\n",
    "estimator.fit({'train': train_location, 'validation': validation_location})\n",
    "print('Completed model training')\n"
   ]
  },
  {
   "cell_type": "code",
   "execution_count": 47,
   "id": "781dbb52",
   "metadata": {},
   "outputs": [
    {
     "data": {
      "text/plain": [
       "'s3://sagemaker-us-east-1-631450739534/xgboost-model-2022-04-13-04-31-49-243/output/model.tar.gz'"
      ]
     },
     "execution_count": 47,
     "metadata": {},
     "output_type": "execute_result"
    }
   ],
   "source": [
    "model_data = estimator.model_data\n",
    "model_data"
   ]
  },
  {
   "cell_type": "markdown",
   "id": "09b59453",
   "metadata": {},
   "source": [
    "## Deploying trained model \n",
    "We can also deploy the trained model and perform invocation "
   ]
  },
  {
   "cell_type": "code",
   "execution_count": 37,
   "id": "c6f89f6e",
   "metadata": {},
   "outputs": [],
   "source": [
    "# endpoint_name = \"xgboost-catboost-endpoint\"\n",
    "# predictor = estimator.deploy(\n",
    "#         initial_instance_count=1, instance_type=\"ml.m5.xlarge\", endpoint_name=endpoint_name\n",
    "#     )\n"
   ]
  },
  {
   "cell_type": "code",
   "execution_count": 50,
   "id": "cd0de0b8",
   "metadata": {},
   "outputs": [],
   "source": [
    "from sagemaker.xgboost.model import XGBoostModel\n",
    "\n",
    "inference_model = XGBoostModel(\n",
    "    model_data=model_data,\n",
    "    role=role,\n",
    "    entry_point=\"multi_model_deploy.py\",\n",
    "    framework_version=\"1.0-1\",\n",
    "    dependencies=[\"my_custom_library\"],\n",
    "    source_dir=\"code\",\n",
    ")"
   ]
  },
  {
   "cell_type": "code",
   "execution_count": null,
   "id": "09e248af",
   "metadata": {},
   "outputs": [
    {
     "name": "stdout",
     "output_type": "stream",
     "text": [
      "------"
     ]
    }
   ],
   "source": [
    "predictor = inference_model.deploy(\n",
    "    initial_instance_count=1,\n",
    "    instance_type=\"ml.m5.xlarge\",\n",
    ")"
   ]
  },
  {
   "cell_type": "code",
   "execution_count": null,
   "id": "38c6fa57",
   "metadata": {},
   "outputs": [],
   "source": [
    "\n",
    "from sagemaker.serializers import NumpySerializer, JSONSerializer, CSVSerializer\n",
    "from sagemaker.deserializers import NumpyDeserializer, JSONDeserializer\n",
    "predictor.serializer = CSVSerializer()\n",
    "predictor.deserializer = JSONDeserializer()\n"
   ]
  },
  {
   "cell_type": "code",
   "execution_count": null,
   "id": "15e85f60",
   "metadata": {},
   "outputs": [],
   "source": [
    "with open(local_test, 'r') as f:\n",
    "    payload = f.read().strip()\n",
    "\n",
    "predictions = predictor.predict(payload)\n",
    "print('predictions: {}'.format(predictions))"
   ]
  },
  {
   "cell_type": "markdown",
   "id": "61648107",
   "metadata": {},
   "source": [
    "## Clear up resources\n",
    "Delete the endpoint deployed in local"
   ]
  },
  {
   "cell_type": "code",
   "execution_count": 32,
   "id": "ac789121",
   "metadata": {},
   "outputs": [
    {
     "name": "stderr",
     "output_type": "stream",
     "text": [
      "The endpoint attribute has been renamed in sagemaker>=2.\n",
      "See: https://sagemaker.readthedocs.io/en/stable/v2.html for details.\n"
     ]
    },
    {
     "name": "stdout",
     "output_type": "stream",
     "text": [
      "Gracefully stopping... (press Ctrl+C again to force)\n"
     ]
    }
   ],
   "source": [
    "predictor.delete_endpoint(predictor.endpoint)"
   ]
  },
  {
   "cell_type": "code",
   "execution_count": null,
   "id": "16b652b8",
   "metadata": {},
   "outputs": [],
   "source": []
  }
 ],
 "metadata": {
  "instance_type": "ml.t3.medium",
  "kernelspec": {
   "display_name": "conda_python3",
   "language": "python",
   "name": "conda_python3"
  },
  "language_info": {
   "codemirror_mode": {
    "name": "ipython",
    "version": 3
   },
   "file_extension": ".py",
   "mimetype": "text/x-python",
   "name": "python",
   "nbconvert_exporter": "python",
   "pygments_lexer": "ipython3",
   "version": "3.6.13"
  }
 },
 "nbformat": 4,
 "nbformat_minor": 5
}
